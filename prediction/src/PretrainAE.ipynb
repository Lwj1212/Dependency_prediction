{
 "cells": [
  {
   "cell_type": "code",
   "execution_count": 1,
   "id": "aeca8c3e-d0a7-4ace-b778-24363a228027",
   "metadata": {},
   "outputs": [
    {
     "name": "stderr",
     "output_type": "stream",
     "text": [
      "2022-07-15 14:42:32.811868: I tensorflow/stream_executor/platform/default/dso_loader.cc:49] Successfully opened dynamic library libcudart.so.10.1\n"
     ]
    }
   ],
   "source": [
    "import os\n",
    "import pickle\n",
    "import tensorflow as tf\n",
    "from tensorflow.keras.models import Model, Sequential\n",
    "from tensorflow.keras.layers import Dense\n",
    "from tensorflow.keras.callbacks import EarlyStopping\n",
    "import numpy as np\n",
    "import time"
   ]
  },
  {
   "cell_type": "code",
   "execution_count": 2,
   "id": "e8203c6b-3fdc-4da3-8812-92f5195bf1e6",
   "metadata": {},
   "outputs": [
    {
     "name": "stdout",
     "output_type": "stream",
     "text": [
      "/home/km/temp/DeepDEP/prediction/code\n",
      "/home/km/temp/DeepDEP\n"
     ]
    }
   ],
   "source": [
    "print(os.getcwd())\n",
    "os.chdir(\"/home/km/temp/DeepDEP/\")\n",
    "print(os.getcwd())"
   ]
  },
  {
   "cell_type": "code",
   "execution_count": 3,
   "id": "fdb47728-fdaf-4241-a0e8-dcd148a5368a",
   "metadata": {},
   "outputs": [],
   "source": [
    "def load_data(filename):\n",
    "    data = []\n",
    "    gene_names = []\n",
    "    data_labels = []\n",
    "    lines = open(filename).readlines()\n",
    "    sample_names = lines[0].replace('\\n', '').split('\\t')[1:]\n",
    "    dx = 1\n",
    "\n",
    "    for line in lines[dx:]:\n",
    "        values = line.replace('\\n', '').split('\\t')\n",
    "        gene = str.upper(values[0])\n",
    "        gene_names.append(gene)\n",
    "        data.append(values[1:])\n",
    "    data = np.array(data, dtype='float32')\n",
    "    data = np.transpose(data)\n",
    "\n",
    "    return data, data_labels, sample_names, gene_names\n",
    "\n",
    "def AE_dense_3layers(input_dim, first_layer_dim, second_layer_dim, third_layer_dim, activation_func, init='he_uniform'):\n",
    "    print('input_dim = ', input_dim)\n",
    "    print('first_layer_dim = ', first_layer_dim)\n",
    "    print('second_layer_dim = ', second_layer_dim)\n",
    "    print('third_layer_dim = ', third_layer_dim)\n",
    "    print('init = ', init)\n",
    "    \n",
    "    with tf.device('/cpu:0'):\n",
    "        model = Sequential()\n",
    "        model.add(Dense(first_layer_dim, input_dim = input_dim, activation = activation_func, kernel_initializer = init))\n",
    "        model.add(Dense(second_layer_dim, input_dim = first_layer_dim, activation = activation_func, kernel_initializer = init))\n",
    "        model.add(Dense(third_layer_dim, input_dim = second_layer_dim, activation = activation_func, kernel_initializer = init))\n",
    "        model.add(Dense(second_layer_dim, input_dim = third_layer_dim, activation = activation_func, kernel_initializer = init))\n",
    "        model.add(Dense(first_layer_dim, input_dim = second_layer_dim, activation = activation_func, kernel_initializer = init))\n",
    "        model.add(Dense(input_dim, input_dim = first_layer_dim, activation = activation_func, kernel_initializer = init))\n",
    "    \n",
    "    return model\n",
    "\n",
    "def save_weight_to_pickle(model, file_name):\n",
    "    print('saving weights')\n",
    "    weight_list = []\n",
    "    for layer in model.layers:\n",
    "        weight_list.append(layer.get_weights())\n",
    "    with open(file_name, 'wb') as handle:\n",
    "        pickle.dump(weight_list, handle)"
   ]
  },
  {
   "cell_type": "code",
   "execution_count": 4,
   "id": "792cd993-3e6f-4606-aa85-825bf2663b56",
   "metadata": {},
   "outputs": [],
   "source": [
    "TCGA_PATH = \"preprocessing/TCGA_INDEX/CUSTOM/\"\n",
    "SAVE_PATH = \"prediction/custom_model/\""
   ]
  },
  {
   "cell_type": "code",
   "execution_count": 5,
   "id": "594d1081-ecbe-4870-809c-607f8960c220",
   "metadata": {},
   "outputs": [
    {
     "name": "stdout",
     "output_type": "stream",
     "text": [
      "\n",
      "\n",
      "Datasets successfully loaded.\n"
     ]
    }
   ],
   "source": [
    "# load TCGA mutation data, substitute here with other genomics\n",
    "data_tcga, data_labels_tcga, sample_names_tcga, property_names_tcga = load_data(TCGA_PATH + \"tcga_cna_data_paired_with_ccl_custom.txt\")\n",
    "print(\"\\n\\nDatasets successfully loaded.\")"
   ]
  },
  {
   "cell_type": "code",
   "execution_count": 6,
   "id": "c43cbbc0-7bc8-4dd1-8713-d6546ef71ae6",
   "metadata": {},
   "outputs": [
    {
     "data": {
      "text/plain": [
       "(8709, 5915)"
      ]
     },
     "execution_count": 6,
     "metadata": {},
     "output_type": "execute_result"
    }
   ],
   "source": [
    "data_tcga.shape"
   ]
  },
  {
   "cell_type": "code",
   "execution_count": 34,
   "id": "95bd2cd2-8372-4fb2-8d78-3325c2bd978a",
   "metadata": {},
   "outputs": [],
   "source": [
    "input_dim = data_tcga.shape[1]\n",
    "first_layer_dim = 1000\n",
    "second_layer_dim = 100\n",
    "third_layer_dim = 50\n",
    "batch_size = 64\n",
    "epoch_size = 100\n",
    "activation_function = 'relu'\n",
    "init = 'he_uniform'"
   ]
  },
  {
   "cell_type": "code",
   "execution_count": 35,
   "id": "94e0651b-2f2b-4eb2-b9c3-3ca4b7e1bcbd",
   "metadata": {},
   "outputs": [],
   "source": [
    "model_save_name = \"premodel_tcga_custom_cna_%d_%d_%d\" % (first_layer_dim, second_layer_dim, third_layer_dim)"
   ]
  },
  {
   "cell_type": "code",
   "execution_count": 36,
   "id": "7b00241e-704e-4501-8814-39ce02152aca",
   "metadata": {},
   "outputs": [
    {
     "name": "stdout",
     "output_type": "stream",
     "text": [
      "input_dim =  5915\n",
      "first_layer_dim =  1000\n",
      "second_layer_dim =  100\n",
      "third_layer_dim =  50\n",
      "init =  he_uniform\n"
     ]
    }
   ],
   "source": [
    "t = time.time()\n",
    "model = AE_dense_3layers(input_dim = input_dim, first_layer_dim = first_layer_dim, \n",
    "                         second_layer_dim=second_layer_dim, third_layer_dim=third_layer_dim, \n",
    "                         activation_func=activation_function, init=init)\n",
    "# tf.keras.utils.plot_model(model, show_shapes=True,  show_dtype=True, to_file='model.png')"
   ]
  },
  {
   "cell_type": "code",
   "execution_count": 37,
   "id": "e0915124-d735-4e65-978a-19191e151c80",
   "metadata": {
    "collapsed": true,
    "jupyter": {
     "outputs_hidden": true
    },
    "tags": []
   },
   "outputs": [
    {
     "name": "stdout",
     "output_type": "stream",
     "text": [
      "Epoch 1/100\n",
      "137/137 [==============================] - 7s 50ms/step - loss: 0.0718\n",
      "Epoch 2/100\n",
      "137/137 [==============================] - 7s 49ms/step - loss: 0.0453\n",
      "Epoch 3/100\n",
      "137/137 [==============================] - 7s 48ms/step - loss: 0.0385\n",
      "Epoch 4/100\n",
      "137/137 [==============================] - 7s 49ms/step - loss: 0.0347\n",
      "Epoch 5/100\n",
      "137/137 [==============================] - 7s 49ms/step - loss: 0.0322\n",
      "Epoch 6/100\n",
      "137/137 [==============================] - 7s 49ms/step - loss: 0.0316\n",
      "Epoch 7/100\n",
      "137/137 [==============================] - 7s 49ms/step - loss: 0.0303\n",
      "Epoch 8/100\n",
      "137/137 [==============================] - 7s 49ms/step - loss: 0.0305\n",
      "Epoch 9/100\n",
      "137/137 [==============================] - 7s 49ms/step - loss: 0.0294\n",
      "Epoch 10/100\n",
      "137/137 [==============================] - 7s 49ms/step - loss: 0.0289\n",
      "Epoch 11/100\n",
      "137/137 [==============================] - 7s 49ms/step - loss: 0.0281\n",
      "Epoch 12/100\n",
      "137/137 [==============================] - 7s 49ms/step - loss: 0.0275\n",
      "Epoch 13/100\n",
      "137/137 [==============================] - 7s 49ms/step - loss: 0.0276\n",
      "Epoch 14/100\n",
      "137/137 [==============================] - 7s 49ms/step - loss: 0.0275\n",
      "Epoch 15/100\n",
      "137/137 [==============================] - 7s 48ms/step - loss: 0.0272\n",
      "Epoch 16/100\n",
      "137/137 [==============================] - 7s 48ms/step - loss: 0.0272\n",
      "Epoch 17/100\n",
      "137/137 [==============================] - 7s 48ms/step - loss: 0.0269\n",
      "Epoch 18/100\n",
      "137/137 [==============================] - 6s 47ms/step - loss: 0.0271\n",
      "Epoch 19/100\n",
      "137/137 [==============================] - 6s 46ms/step - loss: 0.0263\n",
      "Epoch 20/100\n",
      "137/137 [==============================] - 6s 45ms/step - loss: 0.0260\n",
      "Epoch 21/100\n",
      "137/137 [==============================] - 6s 45ms/step - loss: 0.0257\n",
      "Epoch 22/100\n",
      "137/137 [==============================] - 6s 45ms/step - loss: 0.0256\n",
      "Epoch 23/100\n",
      "137/137 [==============================] - 6s 45ms/step - loss: 0.0256\n",
      "Epoch 24/100\n",
      "137/137 [==============================] - 6s 44ms/step - loss: 0.0253\n",
      "Epoch 25/100\n",
      "137/137 [==============================] - 6s 44ms/step - loss: 0.0253\n",
      "Epoch 26/100\n",
      "137/137 [==============================] - 6s 45ms/step - loss: 0.0248\n",
      "Epoch 27/100\n",
      "137/137 [==============================] - 6s 44ms/step - loss: 0.0243\n",
      "Epoch 28/100\n",
      "137/137 [==============================] - 6s 44ms/step - loss: 0.0242\n",
      "Epoch 29/100\n",
      "137/137 [==============================] - 6s 44ms/step - loss: 0.0243\n",
      "Epoch 30/100\n",
      "137/137 [==============================] - 6s 43ms/step - loss: 0.0242\n",
      "Epoch 31/100\n",
      "137/137 [==============================] - 6s 44ms/step - loss: 0.0240\n",
      "Epoch 32/100\n",
      "137/137 [==============================] - 6s 44ms/step - loss: 0.0239\n",
      "Epoch 33/100\n",
      "137/137 [==============================] - 6s 44ms/step - loss: 0.0234\n",
      "Epoch 34/100\n",
      "137/137 [==============================] - 6s 43ms/step - loss: 0.0235\n",
      "Epoch 35/100\n",
      "137/137 [==============================] - 6s 44ms/step - loss: 0.0235\n",
      "Epoch 36/100\n",
      "137/137 [==============================] - 6s 44ms/step - loss: 0.0231\n",
      "Epoch 37/100\n",
      "137/137 [==============================] - 6s 44ms/step - loss: 0.0237\n",
      "Epoch 38/100\n",
      "137/137 [==============================] - 6s 44ms/step - loss: 0.0230\n",
      "Epoch 39/100\n",
      "137/137 [==============================] - 6s 44ms/step - loss: 0.0223\n",
      "Epoch 40/100\n",
      "137/137 [==============================] - 6s 44ms/step - loss: 0.0225\n",
      "Epoch 41/100\n",
      "137/137 [==============================] - 6s 44ms/step - loss: 0.0232\n",
      "Epoch 42/100\n",
      "137/137 [==============================] - 6s 44ms/step - loss: 0.0224\n",
      "Epoch 43/100\n",
      "137/137 [==============================] - 6s 44ms/step - loss: 0.0226\n",
      "Epoch 44/100\n",
      "137/137 [==============================] - 6s 44ms/step - loss: 0.0221\n",
      "Epoch 45/100\n",
      "137/137 [==============================] - 6s 44ms/step - loss: 0.0224\n",
      "Epoch 46/100\n",
      "137/137 [==============================] - 6s 43ms/step - loss: 0.0223\n",
      "Epoch 47/100\n",
      "137/137 [==============================] - 6s 44ms/step - loss: 0.0219\n",
      "Epoch 48/100\n",
      "137/137 [==============================] - 6s 44ms/step - loss: 0.0224\n",
      "Epoch 49/100\n",
      "137/137 [==============================] - 6s 44ms/step - loss: 0.0221\n",
      "Epoch 50/100\n",
      "137/137 [==============================] - 6s 44ms/step - loss: 0.0220\n",
      "Epoch 51/100\n",
      "137/137 [==============================] - 6s 44ms/step - loss: 0.0218\n",
      "Epoch 52/100\n",
      "137/137 [==============================] - 6s 44ms/step - loss: 0.0215\n",
      "Epoch 53/100\n",
      "137/137 [==============================] - 6s 44ms/step - loss: 0.0212\n",
      "Epoch 54/100\n",
      "137/137 [==============================] - 6s 44ms/step - loss: 0.0218\n",
      "Epoch 55/100\n",
      "137/137 [==============================] - 6s 43ms/step - loss: 0.0211\n",
      "Epoch 56/100\n",
      "137/137 [==============================] - 6s 44ms/step - loss: 0.0211\n",
      "Epoch 57/100\n",
      "137/137 [==============================] - 6s 44ms/step - loss: 0.0214\n",
      "Epoch 58/100\n",
      "137/137 [==============================] - 6s 44ms/step - loss: 0.0213\n",
      "Epoch 59/100\n",
      "137/137 [==============================] - 6s 44ms/step - loss: 0.0215\n",
      "Epoch 60/100\n",
      "137/137 [==============================] - 6s 44ms/step - loss: 0.0219\n",
      "Epoch 61/100\n",
      "137/137 [==============================] - 6s 43ms/step - loss: 0.0215\n",
      "Epoch 62/100\n",
      "137/137 [==============================] - 6s 44ms/step - loss: 0.0214\n",
      "Epoch 63/100\n",
      "137/137 [==============================] - 6s 44ms/step - loss: 0.0212\n",
      "Epoch 64/100\n",
      "137/137 [==============================] - 6s 44ms/step - loss: 0.0211\n",
      "Epoch 65/100\n",
      "137/137 [==============================] - 6s 44ms/step - loss: 0.0211\n",
      "Epoch 66/100\n",
      "137/137 [==============================] - 6s 44ms/step - loss: 0.0207\n",
      "Epoch 67/100\n",
      "137/137 [==============================] - 6s 44ms/step - loss: 0.0201\n",
      "Epoch 68/100\n",
      "137/137 [==============================] - 6s 44ms/step - loss: 0.0213\n",
      "Epoch 69/100\n",
      "137/137 [==============================] - 6s 44ms/step - loss: 0.0205\n",
      "Epoch 70/100\n",
      "137/137 [==============================] - 6s 44ms/step - loss: 0.0201\n",
      "Epoch 71/100\n",
      "137/137 [==============================] - 6s 44ms/step - loss: 0.0204\n",
      "Epoch 72/100\n",
      "137/137 [==============================] - 6s 44ms/step - loss: 0.0214\n",
      "Epoch 73/100\n",
      "137/137 [==============================] - 6s 44ms/step - loss: 0.0206\n",
      "Epoch 74/100\n",
      "137/137 [==============================] - 6s 43ms/step - loss: 0.0206\n",
      "Epoch 75/100\n",
      "137/137 [==============================] - 6s 44ms/step - loss: 0.0207\n",
      "Epoch 76/100\n",
      "137/137 [==============================] - 6s 44ms/step - loss: 0.0199\n",
      "Epoch 77/100\n",
      "137/137 [==============================] - 6s 44ms/step - loss: 0.0201\n",
      "Epoch 78/100\n",
      "137/137 [==============================] - 6s 45ms/step - loss: 0.0198\n",
      "Epoch 79/100\n",
      "137/137 [==============================] - 6s 44ms/step - loss: 0.0200\n",
      "Epoch 80/100\n",
      "137/137 [==============================] - 6s 44ms/step - loss: 0.0199\n",
      "Epoch 81/100\n",
      "137/137 [==============================] - 6s 44ms/step - loss: 0.0199\n",
      "Epoch 82/100\n",
      "137/137 [==============================] - 6s 44ms/step - loss: 0.0203\n",
      "Epoch 83/100\n",
      "137/137 [==============================] - 6s 43ms/step - loss: 0.0200\n",
      "Epoch 84/100\n",
      "137/137 [==============================] - 6s 44ms/step - loss: 0.0200\n",
      "Epoch 85/100\n",
      "137/137 [==============================] - 6s 44ms/step - loss: 0.0202\n",
      "Epoch 86/100\n",
      "137/137 [==============================] - 6s 44ms/step - loss: 0.0200\n",
      "Epoch 87/100\n",
      "137/137 [==============================] - 6s 44ms/step - loss: 0.0197\n",
      "Epoch 88/100\n",
      "137/137 [==============================] - 6s 44ms/step - loss: 0.0197\n",
      "Epoch 89/100\n",
      "137/137 [==============================] - 6s 44ms/step - loss: 0.0198\n",
      "Epoch 90/100\n",
      "137/137 [==============================] - 6s 44ms/step - loss: 0.0201\n",
      "Epoch 91/100\n",
      "137/137 [==============================] - 6s 44ms/step - loss: 0.0196\n",
      "Epoch 92/100\n",
      "137/137 [==============================] - 6s 44ms/step - loss: 0.0193\n",
      "Epoch 93/100\n",
      "137/137 [==============================] - 6s 44ms/step - loss: 0.0196\n",
      "Epoch 94/100\n",
      "137/137 [==============================] - 6s 44ms/step - loss: 0.0198\n",
      "Epoch 95/100\n",
      "137/137 [==============================] - 6s 44ms/step - loss: 0.0198\n",
      "Epoch 96/100\n",
      "137/137 [==============================] - 6s 44ms/step - loss: 0.0193\n",
      "Epoch 97/100\n",
      "137/137 [==============================] - 6s 45ms/step - loss: 0.0194\n",
      "Epoch 98/100\n",
      "137/137 [==============================] - 6s 44ms/step - loss: 0.0194\n",
      "Epoch 99/100\n",
      "137/137 [==============================] - 6s 44ms/step - loss: 0.0200\n",
      "Epoch 100/100\n",
      "137/137 [==============================] - 6s 44ms/step - loss: 0.0191\n"
     ]
    }
   ],
   "source": [
    "with tf.device('/cpu:0'):\n",
    "    model.compile(loss = 'mse', optimizer = 'adam')\n",
    "    model.fit(data_tcga, data_tcga, epochs=epoch_size, \n",
    "              batch_size=batch_size, shuffle=True, verbose = 1)"
   ]
  },
  {
   "cell_type": "code",
   "execution_count": 38,
   "id": "461a7dbd-da63-4c17-8145-92aa3ab007e9",
   "metadata": {},
   "outputs": [
    {
     "name": "stdout",
     "output_type": "stream",
     "text": [
      "\n",
      "\n",
      "Autoencoder training completed in 11.3 mins.\n",
      " with testloss:0.0192\n"
     ]
    }
   ],
   "source": [
    "cost = model.evaluate(data_tcga, data_tcga, verbose = 0)\n",
    "print('\\n\\nAutoencoder training completed in %.1f mins.\\n with testloss:%.4f' % ((time.time()-t)/60, cost))"
   ]
  },
  {
   "cell_type": "code",
   "execution_count": 39,
   "id": "f9832f09-a233-4167-9f4b-a5a3e4659bb7",
   "metadata": {},
   "outputs": [
    {
     "name": "stdout",
     "output_type": "stream",
     "text": [
      "saving weights\n",
      "\n",
      "Results saved in prediction/custom_model/premodel_tcga_custom_cna_1000_100_50.pickle\n",
      "\n",
      "\n"
     ]
    }
   ],
   "source": [
    "save_weight_to_pickle(model,SAVE_PATH + model_save_name + '.pickle')\n",
    "print(\"\\nResults saved in %s%s.pickle\\n\\n\" % (SAVE_PATH, model_save_name))"
   ]
  },
  {
   "cell_type": "code",
   "execution_count": null,
   "id": "147d2387-3515-40f7-9b9a-9379e25a7fe2",
   "metadata": {},
   "outputs": [],
   "source": []
  }
 ],
 "metadata": {
  "kernelspec": {
   "display_name": "DeepDEP",
   "language": "python",
   "name": "deepdep"
  },
  "language_info": {
   "codemirror_mode": {
    "name": "ipython",
    "version": 3
   },
   "file_extension": ".py",
   "mimetype": "text/x-python",
   "name": "python",
   "nbconvert_exporter": "python",
   "pygments_lexer": "ipython3",
   "version": "3.7.13"
  }
 },
 "nbformat": 4,
 "nbformat_minor": 5
}
