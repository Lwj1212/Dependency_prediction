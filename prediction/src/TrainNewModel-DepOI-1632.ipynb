{
 "cells": [
  {
   "cell_type": "markdown",
   "id": "d3b29471",
   "metadata": {
    "tags": []
   },
   "source": [
    "# **Train New Model with TCGA pretrained model**"
   ]
  },
  {
   "cell_type": "markdown",
   "id": "894254ff",
   "metadata": {
    "jp-MarkdownHeadingCollapsed": true,
    "tags": []
   },
   "source": [
    "## **Module**"
   ]
  },
  {
   "cell_type": "code",
   "execution_count": 1,
   "id": "a94a8ac6",
   "metadata": {
    "tags": []
   },
   "outputs": [
    {
     "data": {
      "text/html": [
       "<style type='text/css'>\n",
       ".datatable table.frame { margin-bottom: 0; }\n",
       ".datatable table.frame thead { border-bottom: none; }\n",
       ".datatable table.frame tr.coltypes td {  color: #FFFFFF;  line-height: 6px;  padding: 0 0.5em;}\n",
       ".datatable .bool    { background: #DDDD99; }\n",
       ".datatable .object  { background: #565656; }\n",
       ".datatable .int     { background: #5D9E5D; }\n",
       ".datatable .float   { background: #4040CC; }\n",
       ".datatable .str     { background: #CC4040; }\n",
       ".datatable .row_index {  background: var(--jp-border-color3);  border-right: 1px solid var(--jp-border-color0);  color: var(--jp-ui-font-color3);  font-size: 9px;}\n",
       ".datatable .frame tr.coltypes .row_index {  background: var(--jp-border-color0);}\n",
       ".datatable th:nth-child(2) { padding-left: 12px; }\n",
       ".datatable .hellipsis {  color: var(--jp-cell-editor-border-color);}\n",
       ".datatable .vellipsis {  background: var(--jp-layout-color0);  color: var(--jp-cell-editor-border-color);}\n",
       ".datatable .na {  color: var(--jp-cell-editor-border-color);  font-size: 80%;}\n",
       ".datatable .footer { font-size: 9px; }\n",
       ".datatable .frame_dimensions {  background: var(--jp-border-color3);  border-top: 1px solid var(--jp-border-color0);  color: var(--jp-ui-font-color3);  display: inline-block;  opacity: 0.6;  padding: 1px 10px 1px 5px;}\n",
       "</style>\n"
      ],
      "text/plain": [
       "<IPython.core.display.HTML object>"
      ]
     },
     "metadata": {},
     "output_type": "display_data"
    },
    {
     "name": "stderr",
     "output_type": "stream",
     "text": [
      "/home/km/anaconda3/envs/deepdep/lib/python3.5/site-packages/tensorflow/python/framework/dtypes.py:469: FutureWarning: Passing (type, 1) or '1type' as a synonym of type is deprecated; in a future version of numpy, it will be understood as (type, (1,)) / '(1,)type'.\n",
      "  _np_qint8 = np.dtype([(\"qint8\", np.int8, 1)])\n",
      "/home/km/anaconda3/envs/deepdep/lib/python3.5/site-packages/tensorflow/python/framework/dtypes.py:470: FutureWarning: Passing (type, 1) or '1type' as a synonym of type is deprecated; in a future version of numpy, it will be understood as (type, (1,)) / '(1,)type'.\n",
      "  _np_quint8 = np.dtype([(\"quint8\", np.uint8, 1)])\n",
      "/home/km/anaconda3/envs/deepdep/lib/python3.5/site-packages/tensorflow/python/framework/dtypes.py:471: FutureWarning: Passing (type, 1) or '1type' as a synonym of type is deprecated; in a future version of numpy, it will be understood as (type, (1,)) / '(1,)type'.\n",
      "  _np_qint16 = np.dtype([(\"qint16\", np.int16, 1)])\n",
      "/home/km/anaconda3/envs/deepdep/lib/python3.5/site-packages/tensorflow/python/framework/dtypes.py:472: FutureWarning: Passing (type, 1) or '1type' as a synonym of type is deprecated; in a future version of numpy, it will be understood as (type, (1,)) / '(1,)type'.\n",
      "  _np_quint16 = np.dtype([(\"quint16\", np.uint16, 1)])\n",
      "/home/km/anaconda3/envs/deepdep/lib/python3.5/site-packages/tensorflow/python/framework/dtypes.py:473: FutureWarning: Passing (type, 1) or '1type' as a synonym of type is deprecated; in a future version of numpy, it will be understood as (type, (1,)) / '(1,)type'.\n",
      "  _np_qint32 = np.dtype([(\"qint32\", np.int32, 1)])\n",
      "/home/km/anaconda3/envs/deepdep/lib/python3.5/site-packages/tensorflow/python/framework/dtypes.py:476: FutureWarning: Passing (type, 1) or '1type' as a synonym of type is deprecated; in a future version of numpy, it will be understood as (type, (1,)) / '(1,)type'.\n",
      "  np_resource = np.dtype([(\"resource\", np.ubyte, 1)])\n",
      "/home/km/anaconda3/envs/deepdep/lib/python3.5/site-packages/h5py/__init__.py:36: FutureWarning: Conversion of the second argument of issubdtype from `float` to `np.floating` is deprecated. In future, it will be treated as `np.float64 == np.dtype(float).type`.\n",
      "  from ._conv import register_converters as _register_converters\n",
      "Using TensorFlow backend.\n"
     ]
    }
   ],
   "source": [
    "from function import *"
   ]
  },
  {
   "cell_type": "code",
   "execution_count": 2,
   "id": "f9cdcee3",
   "metadata": {},
   "outputs": [
    {
     "name": "stdout",
     "output_type": "stream",
     "text": [
      "/home/km/Dependency_prediction/prediction/src\n",
      "/home/km/Dependency_prediction\n"
     ]
    }
   ],
   "source": [
    "print(os.getcwd())\n",
    "os.chdir(\"/home/km/Dependency_prediction/\")\n",
    "print(os.getcwd())"
   ]
  },
  {
   "cell_type": "markdown",
   "id": "2bceecd5",
   "metadata": {
    "jp-MarkdownHeadingCollapsed": true,
    "tags": []
   },
   "source": [
    "## **Data Load & Path**"
   ]
  },
  {
   "cell_type": "markdown",
   "id": "a9dce4b9",
   "metadata": {},
   "source": [
    "* **Path**"
   ]
  },
  {
   "cell_type": "code",
   "execution_count": 3,
   "id": "a7c4bba0",
   "metadata": {},
   "outputs": [],
   "source": [
    "TRAIN_PATH = \"/home/km/Dependency_prediction/preprocessing/DATA/2022-08-18//\"\n",
    "PREMODEL_PATH = \"prediction/data/premodel_tcga/\"\n",
    "TEMP_PATH = \"prediction/train_preprocessing/\"\n",
    "SAVE_PATH = \"prediction/custom_model/\" + datetime.datetime.now().strftime(\"%Y-%m%d\") + \"/\"\n",
    "CHECK_PATH = SAVE_PATH + \"checkpoint/\"\n",
    "NPZ_PATH = 'prediction/data/ccl_complete_data_501CCL_1632DepOI_.npz'\n",
    "Path(CHECK_PATH).mkdir(parents=True, exist_ok=True)"
   ]
  },
  {
   "cell_type": "markdown",
   "id": "ad72ce5d",
   "metadata": {},
   "source": [
    "* **Pretrained Model load - TCGA**"
   ]
  },
  {
   "cell_type": "code",
   "execution_count": 4,
   "id": "1d3e2179",
   "metadata": {},
   "outputs": [
    {
     "name": "stdout",
     "output_type": "stream",
     "text": [
      "\n",
      "\n",
      "Datasets successfully loaded.\n"
     ]
    }
   ],
   "source": [
    "premodel_mut = pickle.load(open(PREMODEL_PATH + 'premodel_tcga_mut_1000_100_50.pickle', 'rb'))\n",
    "premodel_exp = pickle.load(open(PREMODEL_PATH + 'premodel_tcga_exp_500_200_50.pickle', 'rb'))\n",
    "premodel_cna = pickle.load(open(PREMODEL_PATH + 'premodel_tcga_cna_500_200_50.pickle', 'rb'))\n",
    "premodel_meth = pickle.load(open(PREMODEL_PATH + 'premodel_tcga_meth_500_200_50.pickle', 'rb'))\n",
    "print(\"\\n\\nDatasets successfully loaded.\")"
   ]
  },
  {
   "cell_type": "markdown",
   "id": "dd2a3466",
   "metadata": {
    "jp-MarkdownHeadingCollapsed": true,
    "tags": []
   },
   "source": [
    "## **Fit & Evaluation Model**"
   ]
  },
  {
   "cell_type": "markdown",
   "id": "36da04aa",
   "metadata": {
    "jp-MarkdownHeadingCollapsed": true,
    "tags": []
   },
   "source": [
    "### **(1) Full Model 4-Omics**"
   ]
  },
  {
   "cell_type": "code",
   "execution_count": null,
   "id": "cfd0f290",
   "metadata": {},
   "outputs": [],
   "source": [
    "# data load & train_test split\n",
    "data_exp, data_mut, data_cna, data_meth, data_fprint, data_dep = trainset_load(npz_path=NPZ_PATH,\n",
    "                                                                              temp_path=TEMP_PATH, train_path=TRAIN_PATH)\n",
    "id_train, id_test = train_test_index(index_data=data_mut, num_depoi=1632, split_ratio=0.8)\n",
    "\n",
    "with tf.device('/cpu:0'):\n",
    "    K.clear_session()\n",
    "    model = full_model(data_mut=data_mut, data_exp=data_exp, data_cna=data_cna,data_meth=data_meth,\n",
    "                      data_fprint=data_fprint, data_dep=data_dep, id_train=id_train, id_test=id_test,\n",
    "                      premodel_mut=premodel_mut, premodel_exp=premodel_exp, premodel_cna=premodel_cna,\n",
    "                      premodel_meth=premodel_meth, save_path = CHECK_PATH)"
   ]
  },
  {
   "cell_type": "code",
   "execution_count": null,
   "id": "929023c7",
   "metadata": {},
   "outputs": [],
   "source": [
    "model_train_vis(history=model[1], save_path=SAVE_PATH, filename=\"Full\")"
   ]
  },
  {
   "cell_type": "code",
   "execution_count": null,
   "id": "780ec20d",
   "metadata": {},
   "outputs": [],
   "source": [
    "# SAVE_NAME = \"model_full\"\n",
    "SAVE_NAME = \"model_cna-exp-meth-mut\"\n",
    "model[0].save(SAVE_PATH + SAVE_NAME + \".h5\")\n",
    "print(\"\\n\\nFull DeepDEP model saved in %s\\n\\n\" % (SAVE_PATH + SAVE_NAME + \".h5\"))"
   ]
  },
  {
   "cell_type": "markdown",
   "id": "578483b9",
   "metadata": {
    "jp-MarkdownHeadingCollapsed": true,
    "tags": []
   },
   "source": [
    "### **(2) Expression-Mutation-CNA Model 3-Omics**"
   ]
  },
  {
   "cell_type": "code",
   "execution_count": null,
   "id": "b6f8a3ac",
   "metadata": {},
   "outputs": [],
   "source": [
    "data_exp, data_mut, data_cna, data_meth, data_fprint, data_dep = trainset_load(npz_path=NPZ_PATH,\n",
    "                                                                               temp_path=TEMP_PATH, train_path=TRAIN_PATH, \n",
    "                                                                               meth=False)\n",
    "id_train, id_test = train_test_index(index_data=data_mut, num_depoi=1632, split_ratio=0.8)\n",
    "\n",
    "with tf.device('/cpu:0'):\n",
    "    K.clear_session()\n",
    "    model = mut_exp_cna_model(data_mut=data_mut, data_exp=data_exp, data_cna=data_cna,\n",
    "                      data_fprint=data_fprint, data_dep=data_dep, id_train=id_train, id_test=id_test,\n",
    "                      premodel_mut=premodel_mut, premodel_exp=premodel_exp, premodel_cna=premodel_cna,\n",
    "                      save_path = CHECK_PATH)"
   ]
  },
  {
   "cell_type": "code",
   "execution_count": null,
   "id": "fa69ef1d",
   "metadata": {},
   "outputs": [],
   "source": [
    "model_train_vis(history=model[1], save_path=SAVE_PATH, filename=\"Mut-Exp-CNA\")"
   ]
  },
  {
   "cell_type": "code",
   "execution_count": null,
   "id": "551507ec",
   "metadata": {},
   "outputs": [],
   "source": [
    "# SAVE_NAME = \"model_mut_exp_cna\"\n",
    "SAVE_NAME = \"model_cna-exp-mut\"\n",
    "model[0].save(SAVE_PATH + SAVE_NAME + \".h5\")\n",
    "print(\"\\n\\nMut_Exp_CNA-DeepDEP model saved in %s\\n\\n\" % (SAVE_PATH + SAVE_NAME + \".h5\"))"
   ]
  },
  {
   "cell_type": "code",
   "execution_count": null,
   "id": "888b54e5-55fe-4f5a-ad0c-9a78ad990934",
   "metadata": {},
   "outputs": [],
   "source": [
    "import os\n",
    "os._exit(00)"
   ]
  },
  {
   "cell_type": "markdown",
   "id": "02d14ebb",
   "metadata": {
    "jp-MarkdownHeadingCollapsed": true,
    "tags": []
   },
   "source": [
    "### **(3) Expression-Mutation-Meth Model 3-Omics**"
   ]
  },
  {
   "cell_type": "code",
   "execution_count": 5,
   "id": "5fcfe5ef",
   "metadata": {},
   "outputs": [
    {
     "name": "stdout",
     "output_type": "stream",
     "text": [
      "\n",
      "\n",
      "Training/validation on 654432 samples (401 CCLs x 1632 DepOIs) and testing on 163200 samples (100 CCLs x 1632 DepOIs).\n",
      "\n",
      "\n",
      "Train on 509002 samples, validate on 145430 samples\n",
      "Epoch 1/30\n",
      "509000/509002 [============================>.] - ETA: 0s - loss: 0.0797Epoch 00000: val_loss improved from inf to 0.10501, saving model to prediction/custom_model/2022-0823/checkpoint/mut_exp_meth_weights.best.hdf5\n",
      "509002/509002 [==============================] - 342s - loss: 0.0797 - val_loss: 0.1050\n",
      "Epoch 2/30\n",
      "509000/509002 [============================>.] - ETA: 0s - loss: 0.0588Epoch 00001: val_loss improved from 0.10501 to 0.07518, saving model to prediction/custom_model/2022-0823/checkpoint/mut_exp_meth_weights.best.hdf5\n",
      "509002/509002 [==============================] - 336s - loss: 0.0588 - val_loss: 0.0752\n",
      "Epoch 3/30\n",
      "509000/509002 [============================>.] - ETA: 0s - loss: 0.0562Epoch 00002: val_loss did not improve\n",
      "509002/509002 [==============================] - 333s - loss: 0.0562 - val_loss: 0.0788\n",
      "Epoch 4/30\n",
      "509000/509002 [============================>.] - ETA: 0s - loss: 0.0544Epoch 00003: val_loss improved from 0.07518 to 0.06089, saving model to prediction/custom_model/2022-0823/checkpoint/mut_exp_meth_weights.best.hdf5\n",
      "509002/509002 [==============================] - 338s - loss: 0.0544 - val_loss: 0.0609\n",
      "Epoch 5/30\n",
      "509000/509002 [============================>.] - ETA: 0s - loss: 0.0526Epoch 00004: val_loss did not improve\n",
      "509002/509002 [==============================] - 327s - loss: 0.0526 - val_loss: 0.0622\n",
      "Epoch 6/30\n",
      "509000/509002 [============================>.] - ETA: 0s - loss: 0.0515Epoch 00005: val_loss did not improve\n",
      "509002/509002 [==============================] - 333s - loss: 0.0515 - val_loss: 0.0677\n",
      "Epoch 7/30\n",
      "509000/509002 [============================>.] - ETA: 0s - loss: 0.0508Epoch 00006: val_loss did not improve\n",
      "509002/509002 [==============================] - 328s - loss: 0.0508 - val_loss: 0.0763\n",
      "Epoch 8/30\n",
      "509000/509002 [============================>.] - ETA: 0s - loss: 0.0502Epoch 00007: val_loss did not improve\n",
      "509002/509002 [==============================] - 326s - loss: 0.0502 - val_loss: 0.0676\n",
      "Epoch 00007: early stopping\n",
      "\n",
      "\n",
      "Mut_Exp_Meth-DeepDEP model training completed in 47.3 mins.\n",
      "loss:0.0502 valloss:0.0676 testloss:0.0599\n"
     ]
    }
   ],
   "source": [
    "data_exp, data_mut, data_cna, data_meth, data_fprint, data_dep = trainset_load(npz_path=NPZ_PATH,\n",
    "                                                                               temp_path=TEMP_PATH, train_path=TRAIN_PATH, \n",
    "                                                                               cna=False)\n",
    "id_train, id_test = train_test_index(index_data=data_mut, num_depoi=1632, split_ratio=0.8)\n",
    "\n",
    "with tf.device('/cpu:0'):\n",
    "    K.clear_session()\n",
    "    model = mut_exp_meth_model(data_mut=data_mut, data_exp=data_exp, data_meth=data_meth,\n",
    "                      data_fprint=data_fprint, data_dep=data_dep, id_train=id_train, id_test=id_test,\n",
    "                      premodel_mut=premodel_mut, premodel_exp=premodel_exp, premodel_meth=premodel_meth,\n",
    "                      save_path = CHECK_PATH)"
   ]
  },
  {
   "cell_type": "code",
   "execution_count": 6,
   "id": "1bd49b49",
   "metadata": {},
   "outputs": [
    {
     "data": {
      "image/png": "[encoded data removed]",
      "text/plain": [
       "<Figure size 432x288 with 1 Axes>"
      ]
     },
     "metadata": {
      "needs_background": "light"
     },
     "output_type": "display_data"
    }
   ],
   "source": [
    "model_train_vis(history=model[1], save_path=SAVE_PATH, filename=\"Mut-Exp-Meth\")"
   ]
  },
  {
   "cell_type": "code",
   "execution_count": 7,
   "id": "0133c580",
   "metadata": {},
   "outputs": [
    {
     "name": "stdout",
     "output_type": "stream",
     "text": [
      "\n",
      "\n",
      "Mut_Exp_Meth-DeepDEP model saved in prediction/custom_model/2022-0823/model_exp-meth-mut.h5\n",
      "\n",
      "\n"
     ]
    }
   ],
   "source": [
    "# SAVE_NAME = \"model_mut_exp_meth\"\n",
    "SAVE_NAME = \"model_exp-meth-mut\"\n",
    "model[0].save(SAVE_PATH + SAVE_NAME + \".h5\")\n",
    "print(\"\\n\\nMut_Exp_Meth-DeepDEP model saved in %s\\n\\n\" % (SAVE_PATH + SAVE_NAME + \".h5\"))"
   ]
  },
  {
   "cell_type": "code",
   "execution_count": null,
   "id": "ddc70ef5-7b65-4dda-bedb-619adb1b3983",
   "metadata": {},
   "outputs": [],
   "source": [
    "import os\n",
    "os._exit(00)"
   ]
  },
  {
   "cell_type": "markdown",
   "id": "522a1f24",
   "metadata": {
    "jp-MarkdownHeadingCollapsed": true,
    "tags": []
   },
   "source": [
    "### **(4) Mutation-CNA-Meth Model 3-Omics**"
   ]
  },
  {
   "cell_type": "code",
   "execution_count": 6,
   "id": "3f22b3f2",
   "metadata": {},
   "outputs": [
    {
     "name": "stdout",
     "output_type": "stream",
     "text": [
      "\n",
      "\n",
      "Training/validation on 654432 samples (401 CCLs x 1632 DepOIs) and testing on 163200 samples (100 CCLs x 1632 DepOIs).\n",
      "\n",
      "\n",
      "Train on 509002 samples, validate on 145430 samples\n",
      "Epoch 1/30\n",
      "509000/509002 [============================>.] - ETA: 0s - loss: 0.2582Epoch 00000: val_loss improved from inf to 0.09814, saving model to prediction/custom_model/2022-0823/checkpoint/mut_cna_meth_weights.best.hdf5\n",
      "509002/509002 [==============================] - 338s - loss: 0.2582 - val_loss: 0.0981\n",
      "Epoch 2/30\n",
      "509000/509002 [============================>.] - ETA: 0s - loss: 0.0587Epoch 00001: val_loss improved from 0.09814 to 0.08988, saving model to prediction/custom_model/2022-0823/checkpoint/mut_cna_meth_weights.best.hdf5\n",
      "509002/509002 [==============================] - 338s - loss: 0.0587 - val_loss: 0.0899\n",
      "Epoch 3/30\n",
      "509000/509002 [============================>.] - ETA: 0s - loss: 0.0559Epoch 00002: val_loss improved from 0.08988 to 0.07020, saving model to prediction/custom_model/2022-0823/checkpoint/mut_cna_meth_weights.best.hdf5\n",
      "509002/509002 [==============================] - 341s - loss: 0.0559 - val_loss: 0.0702\n",
      "Epoch 4/30\n",
      "509000/509002 [============================>.] - ETA: 0s - loss: 0.0548Epoch 00003: val_loss did not improve\n",
      "509002/509002 [==============================] - 345s - loss: 0.0548 - val_loss: 0.0764\n",
      "Epoch 5/30\n",
      "509000/509002 [============================>.] - ETA: 0s - loss: 0.0540Epoch 00004: val_loss did not improve\n",
      "509002/509002 [==============================] - 341s - loss: 0.0540 - val_loss: 0.0902\n",
      "Epoch 6/30\n",
      "509000/509002 [============================>.] - ETA: 0s - loss: 0.0532Epoch 00005: val_loss did not improve\n",
      "509002/509002 [==============================] - 342s - loss: 0.0532 - val_loss: 0.0720\n",
      "Epoch 7/30\n",
      "509000/509002 [============================>.] - ETA: 0s - loss: 0.0516Epoch 00006: val_loss did not improve\n",
      "509002/509002 [==============================] - 341s - loss: 0.0516 - val_loss: 0.0815\n",
      "Epoch 00006: early stopping\n",
      "\n",
      "\n",
      "Mut_CNA_Meth-DeepDEP model training completed in 42.7 mins.\n",
      "loss:0.0516 valloss:0.0815 testloss:0.0629\n"
     ]
    }
   ],
   "source": [
    "data_exp, data_mut, data_cna, data_meth, data_fprint, data_dep = trainset_load(npz_path=NPZ_PATH,\n",
    "                                                                               temp_path=TEMP_PATH, train_path=TRAIN_PATH,\n",
    "                                                                               exp=False)\n",
    "id_train, id_test = train_test_index(index_data=data_mut, num_depoi=1632, split_ratio=0.8)\n",
    "\n",
    "with tf.device('/cpu:0'):\n",
    "    K.clear_session()\n",
    "    model = mut_cna_meth_model(data_mut=data_mut, data_cna=data_cna, data_meth=data_meth,\n",
    "                      data_fprint=data_fprint, data_dep=data_dep, id_train=id_train, id_test=id_test,\n",
    "                      premodel_mut=premodel_mut, premodel_cna=premodel_cna, premodel_meth=premodel_meth,\n",
    "                      save_path = CHECK_PATH)"
   ]
  },
  {
   "cell_type": "code",
   "execution_count": 7,
   "id": "1b60d0c5",
   "metadata": {},
   "outputs": [
    {
     "data": {
      "image/png": "[encoded data removed]",
      "text/plain": [
       "<Figure size 432x288 with 1 Axes>"
      ]
     },
     "metadata": {
      "needs_background": "light"
     },
     "output_type": "display_data"
    }
   ],
   "source": [
    "model_train_vis(history=model[1], save_path=SAVE_PATH, filename=\"Mut-CNA-Meth\")"
   ]
  },
  {
   "cell_type": "code",
   "execution_count": 8,
   "id": "4ba6800a",
   "metadata": {},
   "outputs": [
    {
     "name": "stdout",
     "output_type": "stream",
     "text": [
      "\n",
      "\n",
      "Mut_CNA_Meth-DeepDEP model saved in prediction/custom_model/2022-0823/model_cna-meth-mut.h5\n",
      "\n",
      "\n"
     ]
    }
   ],
   "source": [
    "# SAVE_NAME = \"model_mut_cna_meth\"\n",
    "SAVE_NAME = \"model_cna-meth-mut\"\n",
    "model[0].save(SAVE_PATH + SAVE_NAME + \".h5\")\n",
    "print(\"\\n\\nMut_CNA_Meth-DeepDEP model saved in %s\\n\\n\" % (SAVE_PATH + SAVE_NAME + \".h5\"))"
   ]
  },
  {
   "cell_type": "code",
   "execution_count": null,
   "id": "f2727d73-3631-464b-8d71-89669e376946",
   "metadata": {},
   "outputs": [],
   "source": [
    "import os\n",
    "os._exit(00)"
   ]
  },
  {
   "cell_type": "markdown",
   "id": "64326cb7",
   "metadata": {
    "jp-MarkdownHeadingCollapsed": true,
    "tags": []
   },
   "source": [
    "### **(5) Expression-Mutation Model**"
   ]
  },
  {
   "cell_type": "code",
   "execution_count": 5,
   "id": "a1abaff5",
   "metadata": {},
   "outputs": [
    {
     "name": "stdout",
     "output_type": "stream",
     "text": [
      "\n",
      "\n",
      "Training/validation on 654432 samples (401 CCLs x 1632 DepOIs) and testing on 163200 samples (100 CCLs x 1632 DepOIs).\n",
      "\n",
      "\n",
      "Train on 509002 samples, validate on 145430 samples\n",
      "Epoch 1/30\n",
      "509000/509002 [============================>.] - ETA: 0s - loss: 0.0923Epoch 00000: val_loss improved from inf to 0.06948, saving model to prediction/custom_model/2022-0823/checkpoint/mut_exp_weights.best.hdf5\n",
      "509002/509002 [==============================] - 263s - loss: 0.0923 - val_loss: 0.0695\n",
      "Epoch 2/30\n",
      "509000/509002 [============================>.] - ETA: 0s - loss: 0.0566Epoch 00001: val_loss did not improve\n",
      "509002/509002 [==============================] - 253s - loss: 0.0566 - val_loss: 0.0726\n",
      "Epoch 3/30\n",
      "509000/509002 [============================>.] - ETA: 0s - loss: 0.0540Epoch 00002: val_loss did not improve\n",
      "509002/509002 [==============================] - 251s - loss: 0.0540 - val_loss: 0.0746\n",
      "Epoch 4/30\n",
      "509000/509002 [============================>.] - ETA: 0s - loss: 0.0519Epoch 00003: val_loss did not improve\n",
      "509002/509002 [==============================] - 252s - loss: 0.0519 - val_loss: 0.1507\n",
      "Epoch 5/30\n",
      "509000/509002 [============================>.] - ETA: 0s - loss: 0.0507Epoch 00004: val_loss did not improve\n",
      "509002/509002 [==============================] - 251s - loss: 0.0507 - val_loss: 0.0806\n",
      "Epoch 00004: early stopping\n",
      "\n",
      "\n",
      "Mut_Exp-DeepDEP model training completed in 21.9 mins.\n",
      "loss:0.0507 valloss:0.0806 testloss:0.0660\n"
     ]
    }
   ],
   "source": [
    "data_exp, data_mut, data_cna, data_meth, data_fprint, data_dep = trainset_load(npz_path=NPZ_PATH,\n",
    "                                                                               temp_path=TEMP_PATH, train_path=TRAIN_PATH, \n",
    "                                                                               cna=False, meth=False)\n",
    "id_train, id_test = train_test_index(index_data=data_mut, num_depoi=1632, split_ratio=0.8)\n",
    "\n",
    "with tf.device('/cpu:0'):\n",
    "    K.clear_session()\n",
    "    model = mut_exp_model(data_mut=data_mut, data_exp=data_exp, \n",
    "                      data_fprint=data_fprint, data_dep=data_dep, id_train=id_train, id_test=id_test,\n",
    "                      premodel_mut=premodel_mut, premodel_exp=premodel_exp,\n",
    "                      save_path = CHECK_PATH)"
   ]
  },
  {
   "cell_type": "code",
   "execution_count": 6,
   "id": "9588b64a",
   "metadata": {},
   "outputs": [
    {
     "data": {
      "image/png": "[encoded data removed]",
      "text/plain": [
       "<Figure size 432x288 with 1 Axes>"
      ]
     },
     "metadata": {
      "needs_background": "light"
     },
     "output_type": "display_data"
    }
   ],
   "source": [
    "model_train_vis(history=model[1], save_path=SAVE_PATH, filename=\"Mut-Exp\")"
   ]
  },
  {
   "cell_type": "code",
   "execution_count": 7,
   "id": "d07be80e",
   "metadata": {},
   "outputs": [
    {
     "name": "stdout",
     "output_type": "stream",
     "text": [
      "\n",
      "\n",
      "Mut_CNA-DeepDEP model saved in prediction/custom_model/2022-0823/model_exp-mut.h5\n",
      "\n",
      "\n"
     ]
    }
   ],
   "source": [
    "# SAVE_NAME = \"model_mut_exp\"\n",
    "SAVE_NAME = \"model_exp-mut\"\n",
    "model[0].save(SAVE_PATH + SAVE_NAME + \".h5\")\n",
    "print(\"\\n\\nMut_CNA-DeepDEP model saved in %s\\n\\n\" % (SAVE_PATH + SAVE_NAME + \".h5\"))"
   ]
  },
  {
   "cell_type": "code",
   "execution_count": null,
   "id": "9ad9481c-2d52-4044-894d-f7e7b1c87d2c",
   "metadata": {},
   "outputs": [],
   "source": [
    "import os\n",
    "os._exit(00)"
   ]
  },
  {
   "cell_type": "markdown",
   "id": "bfde6a24",
   "metadata": {
    "jp-MarkdownHeadingCollapsed": true,
    "tags": []
   },
   "source": [
    "### **(6) Expression Model**"
   ]
  },
  {
   "cell_type": "code",
   "execution_count": null,
   "id": "dcc7d704",
   "metadata": {
    "tags": []
   },
   "outputs": [],
   "source": [
    "data_exp, data_mut, data_cna, data_meth, data_fprint, data_dep = trainset_load(npz_path=NPZ_PATH,\n",
    "                                                                               temp_path=TEMP_PATH, train_path=TRAIN_PATH,\n",
    "                                                                               mut=False, cna=False, meth=False)\n",
    "id_train, id_test = train_test_index(index_data=data_exp, num_depoi=1632, split_ratio=0.8)\n",
    "\n",
    "with tf.device('/cpu:0'):\n",
    "    K.clear_session()\n",
    "    model = exp_model(data_exp=data_exp, data_fprint=data_fprint, data_dep=data_dep, \n",
    "                      id_train=id_train, id_test=id_test, premodel_exp=premodel_exp,\n",
    "                      save_path = CHECK_PATH)"
   ]
  },
  {
   "cell_type": "code",
   "execution_count": null,
   "id": "f5691273",
   "metadata": {},
   "outputs": [],
   "source": [
    "model_train_vis(history=model[1], save_path=SAVE_PATH, filename=\"Exp\")"
   ]
  },
  {
   "cell_type": "code",
   "execution_count": null,
   "id": "28539bcf",
   "metadata": {},
   "outputs": [],
   "source": [
    "SAVE_NAME = \"model_exp\"\n",
    "model[0].save(SAVE_PATH + SAVE_NAME + \".h5\")\n",
    "print(\"\\n\\Exp-DeepDEP model saved in %s\\n\\n\" % (SAVE_PATH + SAVE_NAME + \".h5\"))"
   ]
  },
  {
   "cell_type": "markdown",
   "id": "980ea9bd",
   "metadata": {
    "jp-MarkdownHeadingCollapsed": true,
    "tags": []
   },
   "source": [
    "### **(7) Mutation Model**"
   ]
  },
  {
   "cell_type": "code",
   "execution_count": null,
   "id": "6963e685",
   "metadata": {},
   "outputs": [],
   "source": [
    "data_exp, data_mut, data_cna, data_meth, data_fprint, data_dep = trainset_load(npz_path=NPZ_PATH,\n",
    "                                                                               temp_path=TEMP_PATH, train_path=TRAIN_PATH,\n",
    "                                                                               exp=False, cna=False, meth=False)\n",
    "id_train, id_test = train_test_index(index_data=data_mut, num_depoi=1632, split_ratio=0.8)\n",
    "\n",
    "with tf.device('/cpu:0'):\n",
    "    K.clear_session()\n",
    "    model = mut_model(data_mut=data_mut, data_fprint=data_fprint, data_dep=data_dep, \n",
    "                      id_train=id_train, id_test=id_test, premodel_mut=premodel_mut,\n",
    "                      save_path = CHECK_PATH)"
   ]
  },
  {
   "cell_type": "code",
   "execution_count": null,
   "id": "24ceb148",
   "metadata": {},
   "outputs": [],
   "source": [
    "model_train_vis(history=model[1], save_path=SAVE_PATH, filename=\"Mut\")"
   ]
  },
  {
   "cell_type": "code",
   "execution_count": null,
   "id": "62b2f3c9",
   "metadata": {},
   "outputs": [],
   "source": [
    "SAVE_NAME = \"model_mut\"\n",
    "model[0].save(SAVE_PATH + SAVE_NAME + \".h5\")\n",
    "print(\"\\n\\nFull DeepDEP model saved in %s\\n\\n\" % (SAVE_PATH + SAVE_NAME + \".h5\"))"
   ]
  },
  {
   "cell_type": "markdown",
   "id": "f9903a89",
   "metadata": {
    "jp-MarkdownHeadingCollapsed": true,
    "tags": []
   },
   "source": [
    "### **(8) CNA Model**"
   ]
  },
  {
   "cell_type": "code",
   "execution_count": null,
   "id": "ab1fea39",
   "metadata": {},
   "outputs": [],
   "source": [
    "data_exp, data_mut, data_cna, data_meth, data_fprint, data_dep = trainset_load(npz_path=NPZ_PATH,\n",
    "                                                                               temp_path=TEMP_PATH, train_path=TRAIN_PATH, \n",
    "                                                                               mut=False, exp=False, meth=False)\n",
    "id_train, id_test = train_test_index(index_data=data_cn, num_depoi=1632, split_ratio=0.8)\n",
    "\n",
    "with tf.device('/cpu:0'):\n",
    "    K.clear_session()\n",
    "    model = cna_model(data_cna=data_cna, data_fprint=data_fprint, data_dep=data_dep, \n",
    "                      id_train=id_train, id_test=id_test, premodel_cna=premodel_cna,\n",
    "                      save_path = CHECK_PATH)"
   ]
  },
  {
   "cell_type": "code",
   "execution_count": null,
   "id": "7880e400",
   "metadata": {},
   "outputs": [],
   "source": [
    "model_train_vis(history=model[1], save_path=SAVE_PATH, filename=\"CNA\")"
   ]
  },
  {
   "cell_type": "code",
   "execution_count": null,
   "id": "b7b85906",
   "metadata": {},
   "outputs": [],
   "source": [
    "SAVE_NAME = \"model_cna\"\n",
    "model[0].save(SAVE_PATH + SAVE_NAME + \".h5\")\n",
    "print(\"\\n\\CNA DeepDEP model saved in %s\\n\\n\" % (SAVE_PATH + SAVE_NAME + \".h5\"))"
   ]
  },
  {
   "cell_type": "markdown",
   "id": "db1d84ad",
   "metadata": {
    "jp-MarkdownHeadingCollapsed": true,
    "tags": []
   },
   "source": [
    "### **(9) Meth Model**"
   ]
  },
  {
   "cell_type": "code",
   "execution_count": null,
   "id": "b7498885",
   "metadata": {},
   "outputs": [],
   "source": [
    "data_exp, data_mut, data_cna, data_meth, data_fprint, data_dep = trainset_load(npz_path=NPZ_PATH,\n",
    "                                                                               temp_path=TEMP_PATH, train_path=TRAIN_PATH, \n",
    "                                                                               mut=False, cna=False, exp=False)\n",
    "id_train, id_test = train_test_index(index_data=data_meth, num_depoi=1632, split_ratio=0.8)\n",
    "\n",
    "with tf.device('/cpu:0'):\n",
    "    K.clear_session()\n",
    "    model = meth_model(data_meth=data_meth, data_fprint=data_fprint, data_dep=data_dep, \n",
    "                      id_train=id_train, id_test=id_test, premodel_meth=premodel_meth,\n",
    "                      save_path = CHECK_PATH)"
   ]
  },
  {
   "cell_type": "code",
   "execution_count": null,
   "id": "3dba5006",
   "metadata": {},
   "outputs": [],
   "source": [
    "model_train_vis(history=model[1], save_path=SAVE_PATH, filename=\"Meth\")"
   ]
  },
  {
   "cell_type": "code",
   "execution_count": null,
   "id": "194766a0",
   "metadata": {},
   "outputs": [],
   "source": [
    "SAVE_NAME = \"model_meth\"\n",
    "model[0].save(SAVE_PATH + SAVE_NAME + \".h5\")\n",
    "print(\"\\n\\nMeth DeepDEP model saved in %s\\n\\n\" % (SAVE_PATH + SAVE_NAME + \".h5\"))"
   ]
  }
 ],
 "metadata": {
  "kernelspec": {
   "display_name": "deepdep",
   "language": "python",
   "name": "deepdep"
  },
  "language_info": {
   "codemirror_mode": {
    "name": "ipython",
    "version": 3
   },
   "file_extension": ".py",
   "mimetype": "text/x-python",
   "name": "python",
   "nbconvert_exporter": "python",
   "pygments_lexer": "ipython3",
   "version": "3.5.6"
  }
 },
 "nbformat": 4,
 "nbformat_minor": 5
}
